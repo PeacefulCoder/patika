{
  "nbformat": 4,
  "nbformat_minor": 0,
  "metadata": {
    "colab": {
      "name": "patika.ipynb",
      "provenance": [],
      "collapsed_sections": []
    },
    "kernelspec": {
      "name": "python3",
      "display_name": "Python 3"
    },
    "language_info": {
      "name": "python"
    }
  },
  "cells": [
    {
      "cell_type": "markdown",
      "metadata": {
        "id": "2Scl_yOClykQ"
      },
      "source": [
        "Bir listeyi düzleştiren (flatten) fonksiyon yazın. Elemanları birden çok katmanlı listtlerden ([[3],2] gibi) oluşabileceği gibi, non-scalar verilerden de oluşabilir.\n",
        "\n",
        "Örnek olarak:\n",
        "input: [[1,'a',['cat'],2],[[[3]],'dog'],4,5]\n",
        "\n",
        "output: [1,'a','cat',2,3,'dog',4,5]"
      ]
    },
    {
      "cell_type": "code",
      "metadata": {
        "colab": {
          "base_uri": "https://localhost:8080/"
        },
        "id": "z3bugHDrlmg7",
        "outputId": "f1fd181e-5a00-43b7-b774-604fc48c259c"
      },
      "source": [
        "m = [[1,'a',['cat'],2],[[[3]],'dog'],4,5]\n",
        "print(m)\n",
        "type(m)"
      ],
      "execution_count": 9,
      "outputs": [
        {
          "output_type": "stream",
          "text": [
            "[[1, 'a', ['cat'], 2], [[[3]], 'dog'], 4, 5]\n"
          ],
          "name": "stdout"
        },
        {
          "output_type": "execute_result",
          "data": {
            "text/plain": [
              "list"
            ]
          },
          "metadata": {
            "tags": []
          },
          "execution_count": 9
        }
      ]
    },
    {
      "cell_type": "code",
      "metadata": {
        "colab": {
          "base_uri": "https://localhost:8080/"
        },
        "id": "gU09SqPFmenu",
        "outputId": "a35ed4af-87a7-4534-91a2-250414a08e0d"
      },
      "source": [
        "flat_list = []\n",
        "# function\n",
        "def flatten_list(data):\n",
        "    # iterating over the data\n",
        "    for element in data:\n",
        "        # checking for list\n",
        "        if type(element) == list:\n",
        "            # calling the same function with current element as new argument\n",
        "            flatten_list(element)\n",
        "        else:\n",
        "          flat_list.append(element)\n",
        "\n",
        "# flattening the given list\n",
        "flatten_list(m)\n",
        "\n",
        "# printing the flat_list\n",
        "print(flat_list)"
      ],
      "execution_count": 18,
      "outputs": [
        {
          "output_type": "stream",
          "text": [
            "[1, 'a', 'cat', 2, 3, 'dog', 4, 5]\n"
          ],
          "name": "stdout"
        }
      ]
    },
    {
      "cell_type": "markdown",
      "metadata": {
        "id": "f5lN8mfll-7A"
      },
      "source": [
        "Verilen listenin içindeki elemanları tersine döndüren bir fonksiyon yazın. Eğer listenin içindeki elemanlar da liste içeriyorsa onların elemanlarını da tersine döndürün. Örnek olarak:\n",
        "input: [[1, 2], [3, 4], [5, 6, 7]]\n",
        "\n",
        "output: [[[7, 6, 5], [4, 3], [2, 1]]"
      ]
    },
    {
      "cell_type": "code",
      "metadata": {
        "colab": {
          "base_uri": "https://localhost:8080/"
        },
        "id": "RLJrC6S0mGNO",
        "outputId": "d9e813fc-bf4b-468d-a945-1ee03f532408"
      },
      "source": [
        "x =  [[1, 2], [3, 4], [5, 6, 7]]\n",
        "x"
      ],
      "execution_count": 47,
      "outputs": [
        {
          "output_type": "execute_result",
          "data": {
            "text/plain": [
              "[[1, 2], [3, 4], [5, 6, 7]]"
            ]
          },
          "metadata": {
            "tags": []
          },
          "execution_count": 47
        }
      ]
    },
    {
      "cell_type": "code",
      "metadata": {
        "colab": {
          "base_uri": "https://localhost:8080/"
        },
        "id": "ojgkhSQYreNu",
        "outputId": "d913b1b7-1df6-4020-a374-12972162519d"
      },
      "source": [
        "x.sort(reverse=True)\n",
        "x"
      ],
      "execution_count": 51,
      "outputs": [
        {
          "output_type": "execute_result",
          "data": {
            "text/plain": [
              "[[5, 6, 7], [3, 4], [1, 2]]"
            ]
          },
          "metadata": {
            "tags": []
          },
          "execution_count": 51
        }
      ]
    },
    {
      "cell_type": "code",
      "metadata": {
        "colab": {
          "base_uri": "https://localhost:8080/"
        },
        "id": "Ql1ppMxuuU5J",
        "outputId": "1fc36b77-6075-456b-9ec4-b878ba1ee816"
      },
      "source": [
        "x_sorted = sorted([elements for elements in x], reverse=True)\n",
        "print([x_sorted])"
      ],
      "execution_count": 54,
      "outputs": [
        {
          "output_type": "stream",
          "text": [
            "[[[7, 6, 5], [4, 3], [2, 1]]]\n"
          ],
          "name": "stdout"
        }
      ]
    }
  ]
}